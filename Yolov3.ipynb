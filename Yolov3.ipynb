{
 "cells": [
  {
   "cell_type": "code",
   "execution_count": null,
   "metadata": {},
   "outputs": [],
   "source": []
  },
  {
   "cell_type": "code",
   "execution_count": 1,
   "metadata": {},
   "outputs": [
    {
     "name": "stdout",
     "output_type": "stream",
     "text": [
      "PyTorch 1.3.1 _CudaDeviceProperties(name='GeForce RTX 2060', major=7, minor=5, total_memory=5926MB, multi_processor_count=30)\n"
     ]
    }
   ],
   "source": [
    "import time\n",
    "import glob\n",
    "import torch\n",
    "import os\n",
    "\n",
    "from IPython.display import Image, clear_output \n",
    "print('PyTorch %s %s' % (torch.__version__, torch.cuda.get_device_properties(0) if torch.cuda.is_available() else 'CPU'))"
   ]
  },
  {
   "cell_type": "code",
   "execution_count": 2,
   "metadata": {},
   "outputs": [
    {
     "name": "stdout",
     "output_type": "stream",
     "text": [
      " annotation_tool   output\t  test.py\t   vim.exe.stackdump\r\n",
      " cfg\t\t   __pycache__\t  ting\t\t   weights\r\n",
      " data\t\t   README.md\t  train.py\t   Yolov3.ipynb\r\n",
      " detect.py\t   results.json  'ubdivisions=1'\r\n",
      " models.py\t   results.png\t  utils\r\n"
     ]
    }
   ],
   "source": [
    "!ls"
   ]
  },
  {
   "cell_type": "code",
   "execution_count": 3,
   "metadata": {
    "scrolled": true
   },
   "outputs": [],
   "source": [
    "# !python train.py --data data/smalcoco/smalcoco.data --batch 3 --cache --epochs 3 --nosave\n"
   ]
  },
  {
   "cell_type": "code",
   "execution_count": 4,
   "metadata": {},
   "outputs": [
    {
     "name": "stdout",
     "output_type": "stream",
     "text": [
      "Namespace(accumulate=4, adam=False, batch_size=30, bucket='', cache_images=True, cfg='cfg/yolov3-custom.cfg', data='data/majdoor/majdoor.data', device='', epochs=300, evolve=False, img_size=[512], multi_scale=False, name='', nosave=True, notest=False, rect=False, resume=False, single_cls=False, weights='weights/yolov3-spp-ultralytics.pt')\n",
      "Using CUDA device0 _CudaDeviceProperties(name='GeForce RTX 2060', total_memory=5926MB)\n",
      "\n",
      "Model Summary: 225 layers, 6.2765e+07 parameters, 6.2765e+07 gradients\n",
      "Caching labels: 100%|███████████████████| 3032/3032 [00:00<00:00, 439461.25it/s]\n",
      "Traceback (most recent call last):\n",
      "  File \"train.py\", line 430, in <module>\n",
      "    train()  # train normally\n",
      "  File \"train.py\", line 182, in train\n",
      "    single_cls=opt.single_cls)\n",
      "  File \"/home/abhinav/TSAI/Session13/Part3_Yolov3/YoloV3/utils/datasets.py\", line 382, in __init__\n",
      "    assert nf > 0, 'No labels found in %s. See %s' % (os.path.dirname(file) + os.sep, help_url)\n",
      "AssertionError: No labels found in labels/. See https://github.com/ultralytics/yolov3/wiki/Train-Custom-Data\n"
     ]
    }
   ],
   "source": [
    "!python train.py --data data/majdoor/majdoor.data --batch 30 --cache --cfg cfg/yolov3-custom.cfg --epochs 300 --nosave"
   ]
  }
 ],
 "metadata": {
  "kernelspec": {
   "display_name": "Python 3",
   "language": "python",
   "name": "python3"
  },
  "language_info": {
   "codemirror_mode": {
    "name": "ipython",
    "version": 3
   },
   "file_extension": ".py",
   "mimetype": "text/x-python",
   "name": "python",
   "nbconvert_exporter": "python",
   "pygments_lexer": "ipython3",
   "version": "3.7.9"
  }
 },
 "nbformat": 4,
 "nbformat_minor": 4
}
